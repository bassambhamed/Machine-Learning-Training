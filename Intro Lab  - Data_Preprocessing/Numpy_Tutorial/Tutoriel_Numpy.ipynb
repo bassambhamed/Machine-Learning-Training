{
 "cells": [
  {
   "cell_type": "markdown",
   "metadata": {
    "id": "nlUUFweOKLc2"
   },
   "source": [
    "* Numpy is a package for Python specilized in the manipulation of arrays, mainly vectors and matrices.\n",
    "* The package offers a large number of routines for quick access to data (eg search, extraction), for various manipulations (eg sorting), for calculations (eg statistical calculation)."
   ]
  },
  {
   "cell_type": "markdown",
   "metadata": {
    "id": "3YpqeNQXKLc9"
   },
   "source": [
    "# Vector manipulation"
   ]
  },
  {
   "cell_type": "markdown",
   "metadata": {
    "id": "cDcT2SuZKLc-"
   },
   "source": [
    "## Vector creation"
   ]
  },
  {
   "cell_type": "code",
   "execution_count": 1,
   "metadata": {
    "id": "XtHjfliOKLc_",
    "outputId": "e183206b-8619-4fff-e8e9-e9e3d6b663af"
   },
   "outputs": [
    {
     "data": {
      "text/plain": [
       "'1.24.3'"
      ]
     },
     "execution_count": 1,
     "metadata": {},
     "output_type": "execute_result"
    }
   ],
   "source": [
    "# Importing Numpy Library\n",
    "import numpy as np\n",
    "# Numpy Version\n",
    "np.__version__"
   ]
  },
  {
   "cell_type": "code",
   "execution_count": 2,
   "metadata": {
    "id": "RzR6tAeAKLdC",
    "outputId": "3f17208c-0b6c-4e7f-a579-1a279f3f3c2a"
   },
   "outputs": [
    {
     "name": "stdout",
     "output_type": "stream",
     "text": [
      "[1.2 2.5 3.2 1.8]\n"
     ]
    }
   ],
   "source": [
    "# Creation of vector\n",
    "a=np.array([1.2, 2.5, 3.2, 1.8])\n",
    "print(a)"
   ]
  },
  {
   "cell_type": "code",
   "execution_count": null,
   "metadata": {
    "id": "63J_j9tJKLdD",
    "outputId": "7b1d2cee-0a1d-4234-c9c4-ae301e590c3a"
   },
   "outputs": [
    {
     "name": "stdout",
     "output_type": "stream",
     "text": [
      "<class 'numpy.ndarray'>\n",
      "float64\n",
      "1\n",
      "(4,)\n",
      "4\n"
     ]
    }
   ],
   "source": [
    "# Structure type\n",
    "print(type(a))\n",
    "\n",
    "# Data type\n",
    "print(a.dtype)\n",
    "\n",
    "# Number of dimensions\n",
    "print(a.ndim)\n",
    "\n",
    "# Numbers of rows and columns\n",
    "print(a.shape)\n",
    "\n",
    "# Total nomber of entries \n",
    "print(a.size)"
   ]
  },
  {
   "cell_type": "code",
   "execution_count": 3,
   "metadata": {
    "id": "Cd0q4glGKLdE",
    "outputId": "cfd5d7a5-508a-4bc8-c84a-bd60ff843767"
   },
   "outputs": [
    {
     "name": "stdout",
     "output_type": "stream",
     "text": [
      "int64\n"
     ]
    }
   ],
   "source": [
    "# Implicit typing \n",
    "b=np.array([1,2,4])\n",
    "print(b.dtype)"
   ]
  },
  {
   "cell_type": "code",
   "execution_count": 4,
   "metadata": {
    "id": "A4UDKikOKLdF",
    "outputId": "4fef1571-4db7-4bce-d20e-aa2b1e073954"
   },
   "outputs": [
    {
     "name": "stdout",
     "output_type": "stream",
     "text": [
      "float64\n"
     ]
    }
   ],
   "source": [
    "# Explicit typing\n",
    "b=np.array([1,2,4],dtype=float)\n",
    "print(b.dtype)"
   ]
  },
  {
   "cell_type": "code",
   "execution_count": 5,
   "metadata": {
    "id": "HGSvHo6hKLdH",
    "outputId": "b1192ca0-d9ff-4de4-cab7-b87d5dc22a3c"
   },
   "outputs": [
    {
     "name": "stdout",
     "output_type": "stream",
     "text": [
      "[1. 2. 4.]\n"
     ]
    }
   ],
   "source": [
    "print(b)"
   ]
  },
  {
   "cell_type": "code",
   "execution_count": 6,
   "metadata": {
    "id": "vAEEBbIDKLdH",
    "outputId": "f2457bda-460c-4973-d472-7883db62f096"
   },
   "outputs": [
    {
     "name": "stdout",
     "output_type": "stream",
     "text": [
      "bool\n"
     ]
    }
   ],
   "source": [
    "c=np.array([True, False, False])\n",
    "print(c.dtype)"
   ]
  },
  {
   "cell_type": "code",
   "execution_count": 8,
   "metadata": {
    "id": "JQiqr_y9KLdI",
    "outputId": "6c933fc8-4719-4ead-f7fa-b853719b087e"
   },
   "outputs": [
    {
     "name": "stdout",
     "output_type": "stream",
     "text": [
      "[{'A': (45, 200)} {'B': (34, 150)}]\n",
      "object\n"
     ]
    }
   ],
   "source": [
    "d=np.array([{\"A\":(45, 200)}, {\"B\":(34, 150)}])\n",
    "print(d)\n",
    "print(d.dtype)"
   ]
  },
  {
   "cell_type": "markdown",
   "metadata": {
    "id": "J-cAyNQjKLdJ"
   },
   "source": [
    "## Sequence of values"
   ]
  },
  {
   "cell_type": "code",
   "execution_count": 9,
   "metadata": {
    "id": "zLy22JzoKLdJ",
    "outputId": "75fceae8-4a5e-4eb1-98bf-ffbddb098f30"
   },
   "outputs": [
    {
     "name": "stdout",
     "output_type": "stream",
     "text": [
      "[0 1 2 3 4 5 6 7 8 9]\n"
     ]
    }
   ],
   "source": [
    "# Arithmetic sequence of reason 1\n",
    "a=np.arange(start=0,stop=10)\n",
    "print(a)"
   ]
  },
  {
   "cell_type": "code",
   "execution_count": 10,
   "metadata": {
    "id": "M374tuVTKLdK",
    "outputId": "653dc991-eb67-45a6-bb4f-5c1546e1027b"
   },
   "outputs": [
    {
     "name": "stdout",
     "output_type": "stream",
     "text": [
      "[0 2 4 6 8]\n"
     ]
    }
   ],
   "source": [
    "# Arithmetic sequence of reason 2\n",
    "a=np.arange(start=0,stop=10, step=2)\n",
    "print(a)"
   ]
  },
  {
   "cell_type": "code",
   "execution_count": 11,
   "metadata": {
    "id": "30AbnemyKLdK",
    "outputId": "96cc7a25-13f1-4ec9-bc37-02817294c1fd"
   },
   "outputs": [
    {
     "name": "stdout",
     "output_type": "stream",
     "text": [
      "[1. 1. 1. 1. 1.]\n"
     ]
    }
   ],
   "source": [
    "# Sequence of the unit\n",
    "a=np.ones(shape=5)\n",
    "print(a)"
   ]
  },
  {
   "cell_type": "code",
   "execution_count": 12,
   "metadata": {
    "id": "7xt00P9QKLdL",
    "outputId": "efd7751c-9bd0-41e6-f551-7b94bafa0372"
   },
   "outputs": [
    {
     "name": "stdout",
     "output_type": "stream",
     "text": [
      "[2.3 2.3 2.3]\n"
     ]
    }
   ],
   "source": [
    "# Sequence with the same value\n",
    "a=np.full(shape=3, fill_value=2.3)\n",
    "print(a)"
   ]
  },
  {
   "cell_type": "code",
   "execution_count": 14,
   "metadata": {
    "id": "bbP38CUkKLdL"
   },
   "outputs": [],
   "source": [
    "# Load vector from file"
   ]
  },
  {
   "cell_type": "code",
   "execution_count": 13,
   "metadata": {
    "id": "Rzegzw4OKLdM",
    "outputId": "00fd7b62-d990-4c7f-a7e9-362ec7d5c692"
   },
   "outputs": [
    {
     "data": {
      "image/png": "[encoded data removed]",
      "text/plain": [
       "<IPython.core.display.Image object>"
      ]
     },
     "execution_count": 13,
     "metadata": {},
     "output_type": "execute_result"
    }
   ],
   "source": [
    "from IPython.display import display, Image\n",
    "Image(filename='vector.png')"
   ]
  },
  {
   "cell_type": "code",
   "execution_count": 15,
   "metadata": {
    "id": "pFsfe5PlKLdN",
    "outputId": "4b0edf6a-519a-4416-bb0d-1a3f57806022"
   },
   "outputs": [
    {
     "name": "stdout",
     "output_type": "stream",
     "text": [
      "[ 3.  5. 17.  5. 35.]\n"
     ]
    }
   ],
   "source": [
    "a=np.loadtxt(\"vector.txt\", dtype=float)\n",
    "print(a)"
   ]
  },
  {
   "cell_type": "code",
   "execution_count": 16,
   "metadata": {
    "id": "rfaNOMkBKLdN",
    "outputId": "42baac2d-823f-4088-e6b4-a56abe9c4162"
   },
   "outputs": [
    {
     "name": "stdout",
     "output_type": "stream",
     "text": [
      "<class 'list'>\n",
      "[1.2 3.1 4.5]\n",
      "<class 'numpy.ndarray'>\n"
     ]
    }
   ],
   "source": [
    "# List of values\n",
    "lst=[1.2, 3.1, 4.5]\n",
    "print(type(lst))\n",
    "\n",
    "# converting form a List\n",
    "a = np.asarray(lst,dtype=float)\n",
    "print(a)\n",
    "print(type(a))"
   ]
  },
  {
   "cell_type": "markdown",
   "metadata": {
    "id": "iV-vMjLQKLdO"
   },
   "source": [
    "## Resizing \n"
   ]
  },
  {
   "cell_type": "code",
   "execution_count": 17,
   "metadata": {
    "id": "7WIsB6EwKLdP",
    "outputId": "e22adee6-7f6d-4570-ebf5-c20b1e604ee8"
   },
   "outputs": [
    {
     "name": "stdout",
     "output_type": "stream",
     "text": [
      "[1.2 2.5 3.2 1.8]\n"
     ]
    }
   ],
   "source": [
    "a=np.array([1.2,2.5,3.2,1.8])\n",
    "print(a)"
   ]
  },
  {
   "cell_type": "code",
   "execution_count": 18,
   "metadata": {
    "id": "I08Fb7M0KLdP",
    "outputId": "6c20fe97-b842-40aa-941a-302c8cc55002"
   },
   "outputs": [
    {
     "name": "stdout",
     "output_type": "stream",
     "text": [
      "[ 1.2  2.5  3.2  1.8 10. ]\n"
     ]
    }
   ],
   "source": [
    "# Add a value\n",
    "a=np.append(a,10)\n",
    "print(a)"
   ]
  },
  {
   "cell_type": "code",
   "execution_count": 19,
   "metadata": {
    "id": "jesQigWxKLdQ",
    "outputId": "51761a83-4598-4ed3-e336-32323f21fbaf"
   },
   "outputs": [
    {
     "name": "stdout",
     "output_type": "stream",
     "text": [
      "[ 1.2  2.5  1.8 10. ]\n"
     ]
    }
   ],
   "source": [
    "# Delate a value\n",
    "b=np.delete(a,2)\n",
    "print(b)"
   ]
  },
  {
   "cell_type": "code",
   "execution_count": 20,
   "metadata": {
    "id": "l2NSXJIrKLdQ",
    "outputId": "0b6d780b-b295-4484-956d-5fd9bef65460"
   },
   "outputs": [
    {
     "name": "stdout",
     "output_type": "stream",
     "text": [
      "[[1 2 3 0 0]]\n"
     ]
    }
   ],
   "source": [
    "# Resize\n",
    "a=np.array([1,2,3])\n",
    "a.resize(1,5)\n",
    "print(a)"
   ]
  },
  {
   "cell_type": "code",
   "execution_count": 21,
   "metadata": {
    "id": "y1BelldzKLdR",
    "outputId": "cf422d59-3d46-4efd-c9e1-b7c52eb706a1"
   },
   "outputs": [
    {
     "name": "stdout",
     "output_type": "stream",
     "text": [
      "[1 2 5 6 2 1 7]\n"
     ]
    }
   ],
   "source": [
    "# Concatenation\n",
    "x=np.array([1,2,5,6])\n",
    "y=np.array([2,1,7])\n",
    "z=np.append(x,y)\n",
    "print(z)"
   ]
  },
  {
   "cell_type": "markdown",
   "metadata": {
    "id": "Uj2YjC-pKLdR"
   },
   "source": [
    "# Values Extraction "
   ]
  },
  {
   "cell_type": "markdown",
   "metadata": {
    "id": "dhqJFMjyKLdS"
   },
   "source": [
    "## Indexed Access"
   ]
  },
  {
   "cell_type": "code",
   "execution_count": 22,
   "metadata": {
    "id": "ScdE0fR8KLdS",
    "outputId": "a19a3b74-a62d-4eba-f3b2-de3cc13794f1"
   },
   "outputs": [
    {
     "name": "stdout",
     "output_type": "stream",
     "text": [
      "[1.2 7.4 4.2 8.5 6.3]\n"
     ]
    }
   ],
   "source": [
    "v=np.array([1.2, 7.4, 4.2, 8.5, 6.3])\n",
    "print(v)"
   ]
  },
  {
   "cell_type": "code",
   "execution_count": 23,
   "metadata": {
    "id": "qPPLK3QfKLdT",
    "outputId": "ca42e504-7fc3-4c52-bf59-bf8a488e9e19"
   },
   "outputs": [
    {
     "name": "stdout",
     "output_type": "stream",
     "text": [
      "1.2\n"
     ]
    }
   ],
   "source": [
    "# First value\n",
    "print(v[0])"
   ]
  },
  {
   "cell_type": "code",
   "execution_count": 24,
   "metadata": {
    "id": "jHFBIV5UKLdT",
    "outputId": "79f489ee-3c08-48da-8a86-f41c550f96b4"
   },
   "outputs": [
    {
     "name": "stdout",
     "output_type": "stream",
     "text": [
      "6.3\n"
     ]
    }
   ],
   "source": [
    "# Last value\n",
    "print(v[-1])"
   ]
  },
  {
   "cell_type": "code",
   "execution_count": 25,
   "metadata": {
    "id": "f1r9uKFAKLdU",
    "outputId": "ca3668b1-510d-4a7e-ab21-3d2b5a1e20bc"
   },
   "outputs": [
    {
     "name": "stdout",
     "output_type": "stream",
     "text": [
      "[7.4 4.2]\n"
     ]
    }
   ],
   "source": [
    "# Index range\n",
    "print(v[1:3])"
   ]
  },
  {
   "cell_type": "code",
   "execution_count": 26,
   "metadata": {
    "id": "2K4-uBMQKLdV",
    "outputId": "37aeee6e-e07e-44d8-e62e-737d071f9f83"
   },
   "outputs": [
    {
     "name": "stdout",
     "output_type": "stream",
     "text": [
      "[1.2 7.4 4.2]\n"
     ]
    }
   ],
   "source": [
    "print(v[:3])"
   ]
  },
  {
   "cell_type": "code",
   "execution_count": 27,
   "metadata": {
    "id": "iMLsKUXfKLdW",
    "outputId": "2ce368e9-1708-4e76-f584-43c5624417f4"
   },
   "outputs": [
    {
     "name": "stdout",
     "output_type": "stream",
     "text": [
      "[4.2 8.5 6.3]\n"
     ]
    }
   ],
   "source": [
    "print(v[2:])"
   ]
  },
  {
   "cell_type": "code",
   "execution_count": 28,
   "metadata": {
    "id": "lUBhbYP4KLdW",
    "outputId": "56f19f6b-5d21-4cf9-bc2c-b3357359e1ba"
   },
   "outputs": [
    {
     "name": "stdout",
     "output_type": "stream",
     "text": [
      "[4.2 8.5 6.3]\n"
     ]
    }
   ],
   "source": [
    "# Negatif index\n",
    "print(v[-3:]) "
   ]
  },
  {
   "cell_type": "code",
   "execution_count": 29,
   "metadata": {
    "id": "N8Bm7z8eKLdX",
    "outputId": "3bb39e64-51f2-45a3-bdff-4ca71e0df0d5"
   },
   "outputs": [
    {
     "name": "stdout",
     "output_type": "stream",
     "text": [
      "[7.4 4.2 8.5]\n"
     ]
    }
   ],
   "source": [
    "print(v[1:4:1])"
   ]
  },
  {
   "cell_type": "code",
   "execution_count": 30,
   "metadata": {
    "id": "Ir1CWWuUKLdY",
    "outputId": "4e7a6b57-e35a-4eba-9f1a-f629481e98db"
   },
   "outputs": [
    {
     "name": "stdout",
     "output_type": "stream",
     "text": [
      "[1.2 4.2]\n"
     ]
    }
   ],
   "source": [
    "print(v[0:3:2])"
   ]
  },
  {
   "cell_type": "code",
   "execution_count": 31,
   "metadata": {
    "id": "xTNMKsnbKLdY",
    "outputId": "cce1d978-e4ea-4c38-88c5-1fc09be72073"
   },
   "outputs": [
    {
     "name": "stdout",
     "output_type": "stream",
     "text": [
      "[8.5 4.2 7.4]\n"
     ]
    }
   ],
   "source": [
    "print(v[3:0:-1])"
   ]
  },
  {
   "cell_type": "code",
   "execution_count": 32,
   "metadata": {
    "id": "1yQOPDw7KLdZ",
    "outputId": "5e0d1f26-01e4-466d-ceca-60865e1ea1a7"
   },
   "outputs": [
    {
     "name": "stdout",
     "output_type": "stream",
     "text": [
      "[6.3 8.5 4.2 7.4 1.2]\n"
     ]
    }
   ],
   "source": [
    "# Invert a vector\n",
    "print(v[::-1])"
   ]
  },
  {
   "cell_type": "markdown",
   "metadata": {
    "id": "_tSgfX8xKLda"
   },
   "source": [
    "## Access by conditions"
   ]
  },
  {
   "cell_type": "code",
   "execution_count": 33,
   "metadata": {
    "id": "M065bblxKLda",
    "outputId": "fbd3c79c-9c3b-49eb-d213-8a8bf6f589a6"
   },
   "outputs": [
    {
     "name": "stdout",
     "output_type": "stream",
     "text": [
      "[7.4 8.5]\n"
     ]
    }
   ],
   "source": [
    "# Extraction with a boolean vector\n",
    "b=np.array([False, True, False, True, False],dtype=bool)\n",
    "print(v[b])"
   ]
  },
  {
   "cell_type": "code",
   "execution_count": 34,
   "metadata": {
    "id": "GHpef7wnKLdb",
    "outputId": "82a3e5be-b4d9-4dcc-bb84-61d663cde4de"
   },
   "outputs": [
    {
     "name": "stdout",
     "output_type": "stream",
     "text": [
      "[1.2 4.2 6.3]\n"
     ]
    }
   ],
   "source": [
    "# Condition for extraction\n",
    "print(v[v<7])"
   ]
  },
  {
   "cell_type": "code",
   "execution_count": 35,
   "metadata": {
    "id": "lSB8LRKPKLdb",
    "outputId": "1d5c9307-d54d-4ba1-deb5-2fcfdfc15c4a"
   },
   "outputs": [
    {
     "name": "stdout",
     "output_type": "stream",
     "text": [
      "[1.2 4.2 6.3]\n"
     ]
    }
   ],
   "source": [
    "# We can use extract function\n",
    "print(np.extract(v<7,v))"
   ]
  },
  {
   "cell_type": "code",
   "execution_count": 36,
   "metadata": {
    "id": "VvMiwOEmKLdc",
    "outputId": "7f25c796-07c9-4f4e-fe3d-95efeb0052b9"
   },
   "outputs": [
    {
     "name": "stdout",
     "output_type": "stream",
     "text": [
      "[ True False  True False  True]\n"
     ]
    }
   ],
   "source": [
    "b=v<7\n",
    "print(b)"
   ]
  },
  {
   "cell_type": "code",
   "execution_count": 37,
   "metadata": {
    "id": "nIqHHcYyKLdc",
    "outputId": "5562895f-969d-46e1-ab9e-3b21292fb4d8"
   },
   "outputs": [
    {
     "name": "stdout",
     "output_type": "stream",
     "text": [
      "8.5\n"
     ]
    }
   ],
   "source": [
    "# Maximum value\n",
    "print(np.max(v))"
   ]
  },
  {
   "cell_type": "code",
   "execution_count": 38,
   "metadata": {
    "id": "q7nRvBN8KLdd",
    "outputId": "0f3a7102-1bd8-4e2e-9197-55eb259a2d56"
   },
   "outputs": [
    {
     "name": "stdout",
     "output_type": "stream",
     "text": [
      "3\n"
     ]
    }
   ],
   "source": [
    "# Maximum value index\n",
    "print(np.argmax(v))"
   ]
  },
  {
   "cell_type": "code",
   "execution_count": 39,
   "metadata": {
    "id": "8b_NM7rJKLdd",
    "outputId": "f24f762f-387a-4868-cdfe-9bf450ebf0d0"
   },
   "outputs": [
    {
     "name": "stdout",
     "output_type": "stream",
     "text": [
      "[1.2 4.2 6.3 7.4 8.5]\n"
     ]
    }
   ],
   "source": [
    "# Sorting values \n",
    "print(np.sort(v))"
   ]
  },
  {
   "cell_type": "code",
   "execution_count": 40,
   "metadata": {
    "id": "Yr8n04hMKLdd",
    "outputId": "d06a438e-822d-43e6-8e06-33e4878c641c"
   },
   "outputs": [
    {
     "name": "stdout",
     "output_type": "stream",
     "text": [
      "[0 2 4 1 3]\n"
     ]
    }
   ],
   "source": [
    "# Recovery of sorted indices\n",
    "print(np.argsort(v))"
   ]
  },
  {
   "cell_type": "code",
   "execution_count": 41,
   "metadata": {
    "id": "hrV-gd-nKLdf",
    "outputId": "7285eed2-82f9-40ad-d267-d13f4625d1ad"
   },
   "outputs": [
    {
     "name": "stdout",
     "output_type": "stream",
     "text": [
      "[1 2]\n"
     ]
    }
   ],
   "source": [
    "# Distinct values\n",
    "a=np.array([1,2,2,2,1,1,2])\n",
    "print(np.unique(a))"
   ]
  },
  {
   "cell_type": "markdown",
   "metadata": {
    "id": "bQ5-1DFUKLdg"
   },
   "source": [
    "# Vectors calculus"
   ]
  },
  {
   "cell_type": "code",
   "execution_count": 42,
   "metadata": {
    "id": "qaf7EoKxKLdg",
    "outputId": "dc43fb4b-f21a-4638-902b-8602af7ce46f"
   },
   "outputs": [
    {
     "name": "stdout",
     "output_type": "stream",
     "text": [
      "5.5200000000000005\n"
     ]
    }
   ],
   "source": [
    "# Mean\n",
    "print(np.mean(v))"
   ]
  },
  {
   "cell_type": "code",
   "execution_count": 43,
   "metadata": {
    "id": "hYo_cogjKLdh",
    "outputId": "4cd81355-bb20-47e0-8d06-e2d5dafbc606"
   },
   "outputs": [
    {
     "name": "stdout",
     "output_type": "stream",
     "text": [
      "6.3\n"
     ]
    }
   ],
   "source": [
    "# Median\n",
    "print(np.median(v))"
   ]
  },
  {
   "cell_type": "code",
   "execution_count": 44,
   "metadata": {
    "id": "Z9BS2kGNKLdi",
    "outputId": "fa855cf2-b853-4eea-d5e6-36e5094054ae"
   },
   "outputs": [
    {
     "name": "stdout",
     "output_type": "stream",
     "text": [
      "6.685599999999999\n"
     ]
    }
   ],
   "source": [
    "# Variance\n",
    "print(np.var(v))"
   ]
  },
  {
   "cell_type": "code",
   "execution_count": 45,
   "metadata": {
    "id": "VRoTE_qFKLdi",
    "outputId": "7a4e0b99-48ae-4c85-8dc6-b72cf9270572"
   },
   "outputs": [
    {
     "name": "stdout",
     "output_type": "stream",
     "text": [
      "2.585652722234755\n"
     ]
    }
   ],
   "source": [
    "# Standard Deviation\n",
    "print(np.std(v))"
   ]
  },
  {
   "cell_type": "code",
   "execution_count": 46,
   "metadata": {
    "id": "VgfD3RFJKLdj",
    "outputId": "73b07ca2-8d7b-4928-b779-794887e2ce99"
   },
   "outputs": [
    {
     "name": "stdout",
     "output_type": "stream",
     "text": [
      "7.4\n"
     ]
    }
   ],
   "source": [
    "# Quartile\n",
    "print(np.percentile(v,75)) "
   ]
  },
  {
   "cell_type": "code",
   "execution_count": 47,
   "metadata": {
    "id": "Jw9Myr1WKLdj",
    "outputId": "3941d826-a2e4-41b1-c8de-06ae39d5b1bb"
   },
   "outputs": [
    {
     "name": "stdout",
     "output_type": "stream",
     "text": [
      "27.6\n"
     ]
    }
   ],
   "source": [
    "# Sum\n",
    "print(np.sum(v))"
   ]
  },
  {
   "cell_type": "code",
   "execution_count": 48,
   "metadata": {
    "id": "eVttihUeKLdk",
    "outputId": "f49bcee5-acbd-4164-af38-342962473bc8"
   },
   "outputs": [
    {
     "name": "stdout",
     "output_type": "stream",
     "text": [
      "[ 1.2  8.6 12.8 21.3 27.6]\n"
     ]
    }
   ],
   "source": [
    "# Cumulative sum\n",
    "print(np.cumsum(v))"
   ]
  },
  {
   "cell_type": "code",
   "execution_count": 49,
   "metadata": {
    "id": "iduTpws4KLdl",
    "outputId": "3b4ae79f-e2c5-4337-95ce-4a89cedbe9a1"
   },
   "outputs": [
    {
     "name": "stdout",
     "output_type": "stream",
     "text": [
      "[2.52 1.04 1.3 ]\n"
     ]
    }
   ],
   "source": [
    "# Multiplication of two vectors (term by term)\n",
    "x=np.array([1.2, 1.3, 1.0])\n",
    "y=np.array([2.1, 0.8, 1.3])\n",
    "print(x*y)"
   ]
  },
  {
   "cell_type": "code",
   "execution_count": 50,
   "metadata": {
    "id": "vBig1bQSKLdl",
    "outputId": "3520d648-a5d1-408a-a40c-65050c92b1c6"
   },
   "outputs": [
    {
     "name": "stdout",
     "output_type": "stream",
     "text": [
      "[3.3 2.1 2.3]\n"
     ]
    }
   ],
   "source": [
    "# Sum \n",
    "print(x+y)"
   ]
  },
  {
   "cell_type": "code",
   "execution_count": 51,
   "metadata": {
    "id": "PGKTyMiqKLdm",
    "outputId": "8d2317e7-2b47-4c30-f47c-218c131c30c7"
   },
   "outputs": [
    {
     "name": "stdout",
     "output_type": "stream",
     "text": [
      "[2.4 2.6 2. ]\n"
     ]
    }
   ],
   "source": [
    "# Multiplication by a scalar\n",
    "print(2*x)"
   ]
  },
  {
   "cell_type": "code",
   "execution_count": 52,
   "metadata": {
    "id": "Va07Q2DZKLdt",
    "outputId": "a016adaf-616f-4eb1-9f93-d9673862af36"
   },
   "outputs": [
    {
     "name": "stdout",
     "output_type": "stream",
     "text": [
      "4.86\n"
     ]
    }
   ],
   "source": [
    "# Inner product \n",
    "w=np.vdot(x,y)\n",
    "print(w)"
   ]
  },
  {
   "cell_type": "code",
   "execution_count": 53,
   "metadata": {
    "id": "2wFhC8BJKLdt",
    "outputId": "27bca7f8-fc81-46c1-c43b-33ebb35372cc"
   },
   "outputs": [
    {
     "name": "stdout",
     "output_type": "stream",
     "text": [
      "4.86\n"
     ]
    }
   ],
   "source": [
    "print(np.sum(x*y))"
   ]
  },
  {
   "cell_type": "code",
   "execution_count": 54,
   "metadata": {
    "id": "cLZdqE6SKLdu",
    "outputId": "f605b531-1108-4374-97f7-df6453589f99"
   },
   "outputs": [
    {
     "name": "stdout",
     "output_type": "stream",
     "text": [
      "2.0322401432901573\n"
     ]
    }
   ],
   "source": [
    "# vector norm \n",
    "n=np.linalg.norm(x)\n",
    "print(n)"
   ]
  },
  {
   "cell_type": "code",
   "execution_count": 55,
   "metadata": {
    "id": "tOgcdmvnKLdu",
    "outputId": "a276a2ad-769d-4e75-e9ce-279d45682f5c"
   },
   "outputs": [
    {
     "name": "stdout",
     "output_type": "stream",
     "text": [
      "2.0322401432901573\n"
     ]
    }
   ],
   "source": [
    "import math\n",
    "print(math.sqrt(np.sum(x**2)))"
   ]
  },
  {
   "cell_type": "code",
   "execution_count": 56,
   "metadata": {
    "id": "PqPjq-G7KLdv",
    "outputId": "fb86f551-3fd4-4397-ddcc-a0d81597a5ec"
   },
   "outputs": [
    {
     "name": "stdout",
     "output_type": "stream",
     "text": [
      "[False  True False]\n"
     ]
    }
   ],
   "source": [
    "# Comparaison\n",
    "z=x>y\n",
    "print(z)"
   ]
  },
  {
   "cell_type": "code",
   "execution_count": 57,
   "metadata": {
    "id": "R8AWOJEXKLdv",
    "outputId": "938b8053-c684-48ac-dede-29db5da6dc4b"
   },
   "outputs": [
    {
     "name": "stdout",
     "output_type": "stream",
     "text": [
      "[ True False False False]\n"
     ]
    }
   ],
   "source": [
    "# Logical operations\n",
    "a=np.array([True,True,False,False],dtype=bool)\n",
    "b=np.array([True,False,True,False],dtype=bool)\n",
    "# Logical AND\n",
    "c=np.logical_and(a,b)\n",
    "print(c)"
   ]
  },
  {
   "cell_type": "code",
   "execution_count": 58,
   "metadata": {
    "id": "MbZpnOdHKLdw",
    "outputId": "7f59db70-d869-4671-e283-3472631682f3"
   },
   "outputs": [
    {
     "data": {
      "text/plain": [
       "array([False,  True,  True, False])"
      ]
     },
     "execution_count": 58,
     "metadata": {},
     "output_type": "execute_result"
    }
   ],
   "source": [
    "np.logical_xor(a,b)"
   ]
  },
  {
   "cell_type": "code",
   "execution_count": 59,
   "metadata": {
    "id": "6ld057GyKLdw",
    "outputId": "378a46e9-b0b5-40f2-b3ee-7798bc392778"
   },
   "outputs": [
    {
     "name": "stdout",
     "output_type": "stream",
     "text": [
      "[1 2]\n"
     ]
    }
   ],
   "source": [
    "x=np.array([1,2,5,7])\n",
    "y=np.array([2,4,6,1])\n",
    "# Intersection\n",
    "print(np.intersect1d(x,y))"
   ]
  },
  {
   "cell_type": "code",
   "execution_count": 60,
   "metadata": {
    "id": "XukX5jwbKLdx",
    "outputId": "a3bafef9-ae0e-47f9-81e9-271b2d5b55eb"
   },
   "outputs": [
    {
     "name": "stdout",
     "output_type": "stream",
     "text": [
      "[1 2 4 5 6 7]\n"
     ]
    }
   ],
   "source": [
    "# Union\n",
    "print(np.union1d(x,y))"
   ]
  },
  {
   "cell_type": "code",
   "execution_count": 61,
   "metadata": {
    "id": "qksRslTFKLdx",
    "outputId": "5760dffe-4031-4cb5-facf-a8f9f0f108b1"
   },
   "outputs": [
    {
     "name": "stdout",
     "output_type": "stream",
     "text": [
      "[4 6]\n"
     ]
    }
   ],
   "source": [
    "# Difference\n",
    "print(np.setdiff1d(y,x))"
   ]
  },
  {
   "cell_type": "markdown",
   "metadata": {
    "id": "-nh86tm1KLdy"
   },
   "source": [
    "# Matrix creation "
   ]
  },
  {
   "cell_type": "code",
   "execution_count": 62,
   "metadata": {
    "id": "kQBeKuRgKLdy",
    "outputId": "bddf5f75-278a-41db-e6f0-e1cd77343459"
   },
   "outputs": [
    {
     "name": "stdout",
     "output_type": "stream",
     "text": [
      "[[1.2 2.5]\n",
      " [3.2 1.8]\n",
      " [1.1 4.3]]\n"
     ]
    }
   ],
   "source": [
    "a=np.array([[1.2,2.5],[3.2, 1.8],[1.1,4.3]])\n",
    "print(a)"
   ]
  },
  {
   "cell_type": "code",
   "execution_count": 63,
   "metadata": {
    "id": "cF2XI2J7KLdz",
    "outputId": "78c90662-50b7-4000-df45-75cb45a1c9d1"
   },
   "outputs": [
    {
     "name": "stdout",
     "output_type": "stream",
     "text": [
      "<class 'numpy.ndarray'>\n",
      "float64\n",
      "2\n",
      "(3, 2)\n",
      "6\n"
     ]
    }
   ],
   "source": [
    "# Structure type\n",
    "print(type(a))\n",
    "\n",
    "# Data type\n",
    "print(a.dtype)\n",
    "\n",
    "# Number of dimensions\n",
    "print(a.ndim)\n",
    "\n",
    "# Numbers of rows and columns\n",
    "print(a.shape)\n",
    "\n",
    "# Total number of entries\n",
    "print(a.size)"
   ]
  },
  {
   "cell_type": "code",
   "execution_count": 64,
   "metadata": {
    "id": "__0V96GFKLd0",
    "outputId": "44a7e4db-3e7e-4d2e-91fe-8ae4ddfa7df4"
   },
   "outputs": [
    {
     "name": "stdout",
     "output_type": "stream",
     "text": [
      "int64\n"
     ]
    }
   ],
   "source": [
    "# Implicit typing\n",
    "a=np.array([[1,2],[4,7]])\n",
    "print(a.dtype)"
   ]
  },
  {
   "cell_type": "code",
   "execution_count": 65,
   "metadata": {
    "id": "kNr0ww8-KLd0",
    "outputId": "c5da7bdb-d9f2-4551-c197-b9f92adde603"
   },
   "outputs": [
    {
     "name": "stdout",
     "output_type": "stream",
     "text": [
      "float64\n"
     ]
    }
   ],
   "source": [
    "# Explicit typing \n",
    "a=np.array([[1,2],[4,7]],dtype=float)\n",
    "print(a.dtype)"
   ]
  },
  {
   "cell_type": "code",
   "execution_count": 66,
   "metadata": {
    "id": "z_cXEoiEKLd1",
    "outputId": "2fbbe334-a915-4fc0-ac35-89098b804282"
   },
   "outputs": [
    {
     "name": "stdout",
     "output_type": "stream",
     "text": [
      "[[0 1 2 3 4]\n",
      " [5 6 7 8 9]]\n"
     ]
    }
   ],
   "source": [
    "# Creation from a sequence\n",
    "# arange () generates a sequence of values\n",
    "# reshape () takes care of reorganizing them into rows and columns\n",
    "a=np.arange(0,10).reshape(2,5)\n",
    "print(a)"
   ]
  },
  {
   "cell_type": "code",
   "execution_count": 67,
   "metadata": {
    "id": "fO97wdgaKLd2",
    "outputId": "cd0dfbad-4c20-40c5-913b-e1a68bd58afb"
   },
   "outputs": [
    {
     "name": "stdout",
     "output_type": "stream",
     "text": [
      "(6,)\n"
     ]
    }
   ],
   "source": [
    "# Convert a vector into a matrix\n",
    "a=np.array([2.1,3.4,6.7,8.1,3.5,7.2])\n",
    "print(a.shape)"
   ]
  },
  {
   "cell_type": "code",
   "execution_count": 68,
   "metadata": {
    "id": "aKih7D7dKLd2",
    "outputId": "a9936326-16de-4565-ad51-a2c9b5d1d3fe"
   },
   "outputs": [
    {
     "name": "stdout",
     "output_type": "stream",
     "text": [
      "(3, 2)\n",
      "[[2.1 3.4]\n",
      " [6.7 8.1]\n",
      " [3.5 7.2]]\n"
     ]
    }
   ],
   "source": [
    "b=a.reshape(3,2)\n",
    "print(b.shape)\n",
    "print(b)"
   ]
  },
  {
   "cell_type": "code",
   "execution_count": 69,
   "metadata": {
    "id": "ZiDuxpBAKLd3",
    "outputId": "a394f0d0-2382-4bd8-af12-c12b4e33cd75"
   },
   "outputs": [
    {
     "name": "stdout",
     "output_type": "stream",
     "text": [
      "[[0. 0. 0. 0.]\n",
      " [0. 0. 0. 0.]]\n"
     ]
    }
   ],
   "source": [
    "# Matrices of identical values \n",
    "# eg, used for initialization\n",
    "a=np.zeros(shape=(2,4))\n",
    "print(a)"
   ]
  },
  {
   "cell_type": "code",
   "execution_count": 70,
   "metadata": {
    "id": "dYtulWSSKLd4",
    "outputId": "0ba33b9d-1a4d-455d-a5b0-7868bdfa46d9"
   },
   "outputs": [
    {
     "name": "stdout",
     "output_type": "stream",
     "text": [
      "[[0.1 0.1 0.1 0.1]\n",
      " [0.1 0.1 0.1 0.1]]\n"
     ]
    }
   ],
   "source": [
    "a=np.full(shape=(2,4),fill_value=0.1)\n",
    "print(a)"
   ]
  },
  {
   "cell_type": "code",
   "execution_count": 71,
   "metadata": {
    "id": "t23Zux7DKLd4"
   },
   "outputs": [],
   "source": [
    "# Load a matrix form a file"
   ]
  },
  {
   "cell_type": "code",
   "execution_count": 72,
   "metadata": {
    "id": "euvelJ4ZKLd5",
    "outputId": "61f52861-7e09-4a05-db52-29a8f2a48de2"
   },
   "outputs": [
    {
     "data": {
      "image/png": "[encoded data removed]",
      "text/plain": [
       "<IPython.core.display.Image object>"
      ]
     },
     "execution_count": 72,
     "metadata": {},
     "output_type": "execute_result"
    }
   ],
   "source": [
    "Image(filename='matrix.png')"
   ]
  },
  {
   "cell_type": "code",
   "execution_count": 73,
   "metadata": {
    "id": "2KCUKN8GKLd6",
    "outputId": "426ac6f9-055c-4c93-8451-ee96f0db6ac4"
   },
   "outputs": [
    {
     "name": "stdout",
     "output_type": "stream",
     "text": [
      "[[ 45.  62. 168.]\n",
      " [ 34.  68. 187.]\n",
      " [ 53.  85. 169.]]\n"
     ]
    }
   ],
   "source": [
    "# Column separator by tabulation\n",
    "a=np.loadtxt(\"matrix.txt\",delimiter=\"\\t\",dtype=float)\n",
    "print(a)"
   ]
  },
  {
   "cell_type": "code",
   "execution_count": 74,
   "metadata": {
    "id": "oslKXnh9KLd6",
    "outputId": "6b99a3a8-8c14-401d-c854-dc9ea989f223"
   },
   "outputs": [
    {
     "name": "stdout",
     "output_type": "stream",
     "text": [
      "[[1.2 2.5]\n",
      " [3.2 1.8]\n",
      " [1.1 4.3]]\n"
     ]
    }
   ],
   "source": [
    "a=np.array([[1.2,2.5],[3.2,1.8],[1.1,4.3]])\n",
    "print(a)"
   ]
  },
  {
   "cell_type": "code",
   "execution_count": 76,
   "metadata": {
    "id": "3dl6DRLSKLd7",
    "outputId": "010e7602-c8a1-4fcf-a679-17d8e178936b"
   },
   "outputs": [
    {
     "name": "stdout",
     "output_type": "stream",
     "text": [
      "[[1.2 2.5]\n",
      " [3.2 1.8]\n",
      " [1.1 4.3]\n",
      " [4.1 2.6]]\n"
     ]
    }
   ],
   "source": [
    "# Add a row\n",
    "b=np.array([[4.1,2.6]])\n",
    "c=np.append(a,b,axis=0)\n",
    "print(c)"
   ]
  },
  {
   "cell_type": "code",
   "execution_count": 77,
   "metadata": {
    "id": "PiZ2zjDDKLd7",
    "outputId": "4ed3d302-b461-429d-ecb8-fb6765a9983c"
   },
   "outputs": [
    {
     "name": "stdout",
     "output_type": "stream",
     "text": [
      "[[1.2 2.5 7.8]\n",
      " [3.2 1.8 6.1]\n",
      " [1.1 4.3 5.4]]\n"
     ]
    }
   ],
   "source": [
    "# Add a column\n",
    "d=np.array([[7.8],[6.1],[5.4]])\n",
    "print(np.append(a,d,axis=1))"
   ]
  },
  {
   "cell_type": "code",
   "execution_count": 78,
   "metadata": {
    "id": "hClS1i5jKLd8",
    "outputId": "100ced99-e102-40e7-fc18-46feeccfc6bd"
   },
   "outputs": [
    {
     "name": "stdout",
     "output_type": "stream",
     "text": [
      "[[1.2 2.5]\n",
      " [3.2 1.8]\n",
      " [4.1 2.6]\n",
      " [1.1 4.3]]\n"
     ]
    }
   ],
   "source": [
    "# Insertion\n",
    "print(np.insert(a,2,b,axis=0))"
   ]
  },
  {
   "cell_type": "code",
   "execution_count": 79,
   "metadata": {
    "id": "7hwgsMKpKLd9",
    "outputId": "ce74d55e-8146-42c5-def5-5cc46d6b4fb7"
   },
   "outputs": [
    {
     "name": "stdout",
     "output_type": "stream",
     "text": [
      "[[1.2 2.5]\n",
      " [1.1 4.3]]\n"
     ]
    }
   ],
   "source": [
    "# Delate\n",
    "print(np.delete(a,1,axis=0))"
   ]
  },
  {
   "cell_type": "code",
   "execution_count": 80,
   "metadata": {
    "id": "RW8hlLaXKLd-",
    "outputId": "d8c41c03-d915-45a4-9444-064ffb0f2248"
   },
   "outputs": [
    {
     "name": "stdout",
     "output_type": "stream",
     "text": [
      "[[1.2 2.5 3.2]\n",
      " [1.8 1.1 4.3]]\n"
     ]
    }
   ],
   "source": [
    "# Resize\n",
    "h=np.resize(a,new_shape=(2,3))\n",
    "print(h)"
   ]
  },
  {
   "cell_type": "markdown",
   "metadata": {
    "id": "ttH_YWXpKLd_"
   },
   "source": [
    "# Values extraction"
   ]
  },
  {
   "cell_type": "code",
   "execution_count": 81,
   "metadata": {
    "colab": {
     "base_uri": "https://localhost:8080/",
     "height": 197
    },
    "executionInfo": {
     "elapsed": 407,
     "status": "error",
     "timestamp": 1642240611732,
     "user": {
      "displayName": "Diane Sawadogo",
      "photoUrl": "https://lh3.googleusercontent.com/a/default-user=s64",
      "userId": "01361549558366101074"
     },
     "user_tz": -60
    },
    "id": "cF163LdlKLd_",
    "outputId": "eef6d713-47c2-4536-b0de-20c9e9297383"
   },
   "outputs": [
    {
     "name": "stdout",
     "output_type": "stream",
     "text": [
      "[[1 5]\n",
      " [3 8]\n",
      " [0 4]]\n"
     ]
    }
   ],
   "source": [
    "v=np.array([[1, 5],[3,8],[0,4]])\n",
    "print(v)"
   ]
  },
  {
   "cell_type": "code",
   "execution_count": 82,
   "metadata": {
    "executionInfo": {
     "elapsed": 25,
     "status": "aborted",
     "timestamp": 1642240524559,
     "user": {
      "displayName": "Diane Sawadogo",
      "photoUrl": "https://lh3.googleusercontent.com/a/default-user=s64",
      "userId": "01361549558366101074"
     },
     "user_tz": -60
    },
    "id": "DL1zIcZPKLeA"
   },
   "outputs": [
    {
     "name": "stdout",
     "output_type": "stream",
     "text": [
      "1\n"
     ]
    }
   ],
   "source": [
    "# Indexed access\n",
    "print(v[0,0])"
   ]
  },
  {
   "cell_type": "code",
   "execution_count": 83,
   "metadata": {
    "executionInfo": {
     "elapsed": 28,
     "status": "aborted",
     "timestamp": 1642240524563,
     "user": {
      "displayName": "Diane Sawadogo",
      "photoUrl": "https://lh3.googleusercontent.com/a/default-user=s64",
      "userId": "01361549558366101074"
     },
     "user_tz": -60
    },
    "id": "B3nWjk_wKLeB"
   },
   "outputs": [
    {
     "name": "stdout",
     "output_type": "stream",
     "text": [
      "[[1 5]\n",
      " [3 8]\n",
      " [0 4]]\n"
     ]
    }
   ],
   "source": [
    "# All rows and columns \n",
    "print(v[:,:])"
   ]
  },
  {
   "cell_type": "code",
   "execution_count": 84,
   "metadata": {
    "executionInfo": {
     "elapsed": 29,
     "status": "aborted",
     "timestamp": 1642240524565,
     "user": {
      "displayName": "Diane Sawadogo",
      "photoUrl": "https://lh3.googleusercontent.com/a/default-user=s64",
      "userId": "01361549558366101074"
     },
     "user_tz": -60
    },
    "id": "boLTepaZKLeC"
   },
   "outputs": [
    {
     "name": "stdout",
     "output_type": "stream",
     "text": [
      "[[1 5]\n",
      " [3 8]]\n"
     ]
    }
   ],
   "source": [
    "print(v[0:2,:])"
   ]
  },
  {
   "cell_type": "code",
   "execution_count": 85,
   "metadata": {
    "executionInfo": {
     "elapsed": 33,
     "status": "aborted",
     "timestamp": 1642240524569,
     "user": {
      "displayName": "Diane Sawadogo",
      "photoUrl": "https://lh3.googleusercontent.com/a/default-user=s64",
      "userId": "01361549558366101074"
     },
     "user_tz": -60
    },
    "id": "7_ybQB17KLeC"
   },
   "outputs": [
    {
     "name": "stdout",
     "output_type": "stream",
     "text": [
      "[[3 8]\n",
      " [0 4]]\n"
     ]
    }
   ],
   "source": [
    "print(v[1:,:])"
   ]
  },
  {
   "cell_type": "code",
   "execution_count": 86,
   "metadata": {
    "executionInfo": {
     "elapsed": 34,
     "status": "aborted",
     "timestamp": 1642240524571,
     "user": {
      "displayName": "Diane Sawadogo",
      "photoUrl": "https://lh3.googleusercontent.com/a/default-user=s64",
      "userId": "01361549558366101074"
     },
     "user_tz": -60
    },
    "id": "mEDw_4YwKLeD"
   },
   "outputs": [
    {
     "name": "stdout",
     "output_type": "stream",
     "text": [
      "[0 4]\n"
     ]
    }
   ],
   "source": [
    "print(v[-1,:])"
   ]
  },
  {
   "cell_type": "code",
   "execution_count": 87,
   "metadata": {
    "executionInfo": {
     "elapsed": 36,
     "status": "aborted",
     "timestamp": 1642240524573,
     "user": {
      "displayName": "Diane Sawadogo",
      "photoUrl": "https://lh3.googleusercontent.com/a/default-user=s64",
      "userId": "01361549558366101074"
     },
     "user_tz": -60
    },
    "id": "9-NVG0DzKLeE"
   },
   "outputs": [
    {
     "name": "stdout",
     "output_type": "stream",
     "text": [
      "[[3 8]\n",
      " [0 4]]\n"
     ]
    }
   ],
   "source": [
    "print(v[-2:,:])"
   ]
  },
  {
   "cell_type": "code",
   "execution_count": 88,
   "metadata": {
    "executionInfo": {
     "elapsed": 36,
     "status": "aborted",
     "timestamp": 1642240524574,
     "user": {
      "displayName": "Diane Sawadogo",
      "photoUrl": "https://lh3.googleusercontent.com/a/default-user=s64",
      "userId": "01361549558366101074"
     },
     "user_tz": -60
    },
    "id": "7OPqpR1RKLeE"
   },
   "outputs": [
    {
     "name": "stdout",
     "output_type": "stream",
     "text": [
      "[ 6 11  4]\n"
     ]
    }
   ],
   "source": [
    "# Sum of each row\n",
    "s=np.sum(v,axis=1)\n",
    "print(s)"
   ]
  },
  {
   "cell_type": "code",
   "execution_count": 89,
   "metadata": {
    "executionInfo": {
     "elapsed": 36,
     "status": "aborted",
     "timestamp": 1642240524575,
     "user": {
      "displayName": "Diane Sawadogo",
      "photoUrl": "https://lh3.googleusercontent.com/a/default-user=s64",
      "userId": "01361549558366101074"
     },
     "user_tz": -60
    },
    "id": "XMEEIDQiKLeF"
   },
   "outputs": [
    {
     "name": "stdout",
     "output_type": "stream",
     "text": [
      "[False False  True]\n"
     ]
    }
   ],
   "source": [
    "# Identify the lines whose sum is equal to the minimum\n",
    "b=(s==np.min(s))\n",
    "print(b)"
   ]
  },
  {
   "cell_type": "code",
   "execution_count": 90,
   "metadata": {
    "executionInfo": {
     "elapsed": 37,
     "status": "aborted",
     "timestamp": 1642240524577,
     "user": {
      "displayName": "Diane Sawadogo",
      "photoUrl": "https://lh3.googleusercontent.com/a/default-user=s64",
      "userId": "01361549558366101074"
     },
     "user_tz": -60
    },
    "id": "wUEuZQBNKLeG"
   },
   "outputs": [
    {
     "name": "stdout",
     "output_type": "stream",
     "text": [
      "[[0 4]]\n"
     ]
    }
   ],
   "source": [
    "# Boolean filter\n",
    "print(v[b,:])"
   ]
  },
  {
   "cell_type": "code",
   "execution_count": 91,
   "metadata": {
    "executionInfo": {
     "elapsed": 37,
     "status": "aborted",
     "timestamp": 1642240524577,
     "user": {
      "displayName": "Diane Sawadogo",
      "photoUrl": "https://lh3.googleusercontent.com/a/default-user=s64",
      "userId": "01361549558366101074"
     },
     "user_tz": -60
    },
    "id": "nHqlprbxKLeG"
   },
   "outputs": [
    {
     "name": "stdout",
     "output_type": "stream",
     "text": [
      "[3 8]\n"
     ]
    }
   ],
   "source": [
    "# Find the max value of rows for each column\n",
    "print(np.max(v,axis=0))"
   ]
  },
  {
   "cell_type": "code",
   "execution_count": 92,
   "metadata": {
    "executionInfo": {
     "elapsed": 37,
     "status": "aborted",
     "timestamp": 1642240524578,
     "user": {
      "displayName": "Diane Sawadogo",
      "photoUrl": "https://lh3.googleusercontent.com/a/default-user=s64",
      "userId": "01361549558366101074"
     },
     "user_tz": -60
    },
    "id": "xdlnqA20KLeH"
   },
   "outputs": [
    {
     "name": "stdout",
     "output_type": "stream",
     "text": [
      "[5 8 4]\n"
     ]
    }
   ],
   "source": [
    "# find the max value of columns for each row\n",
    "print(np.max(v,axis=1))"
   ]
  },
  {
   "cell_type": "code",
   "execution_count": 93,
   "metadata": {
    "executionInfo": {
     "elapsed": 38,
     "status": "aborted",
     "timestamp": 1642240524580,
     "user": {
      "displayName": "Diane Sawadogo",
      "photoUrl": "https://lh3.googleusercontent.com/a/default-user=s64",
      "userId": "01361549558366101074"
     },
     "user_tz": -60
    },
    "id": "8IxJTpkjKLeH"
   },
   "outputs": [
    {
     "name": "stdout",
     "output_type": "stream",
     "text": [
      "[1 1]\n"
     ]
    }
   ],
   "source": [
    "# Index\n",
    "print(np.argmax(v,axis=0))"
   ]
  },
  {
   "cell_type": "code",
   "execution_count": 94,
   "metadata": {
    "executionInfo": {
     "elapsed": 40,
     "status": "aborted",
     "timestamp": 1642240524581,
     "user": {
      "displayName": "Diane Sawadogo",
      "photoUrl": "https://lh3.googleusercontent.com/a/default-user=s64",
      "userId": "01361549558366101074"
     },
     "user_tz": -60
    },
    "id": "xd9ne0t-KLeI"
   },
   "outputs": [
    {
     "name": "stdout",
     "output_type": "stream",
     "text": [
      "[[0 4]\n",
      " [1 5]\n",
      " [3 8]]\n"
     ]
    }
   ],
   "source": [
    "# Sorting\n",
    "print(np.sort(v,axis=0))"
   ]
  },
  {
   "cell_type": "code",
   "execution_count": 95,
   "metadata": {
    "executionInfo": {
     "elapsed": 40,
     "status": "aborted",
     "timestamp": 1642240524583,
     "user": {
      "displayName": "Diane Sawadogo",
      "photoUrl": "https://lh3.googleusercontent.com/a/default-user=s64",
      "userId": "01361549558366101074"
     },
     "user_tz": -60
    },
    "id": "N2XEsoksKLeJ"
   },
   "outputs": [
    {
     "name": "stdout",
     "output_type": "stream",
     "text": [
      "[[2 2]\n",
      " [0 0]\n",
      " [1 1]]\n"
     ]
    }
   ],
   "source": [
    "# Sorted indices\n",
    "print(np.argsort(v,axis=0))"
   ]
  },
  {
   "cell_type": "code",
   "execution_count": 96,
   "metadata": {
    "executionInfo": {
     "elapsed": 42,
     "status": "aborted",
     "timestamp": 1642240524585,
     "user": {
      "displayName": "Diane Sawadogo",
      "photoUrl": "https://lh3.googleusercontent.com/a/default-user=s64",
      "userId": "01361549558366101074"
     },
     "user_tz": -60
    },
    "id": "8x1gxuw_KLeJ"
   },
   "outputs": [
    {
     "name": "stdout",
     "output_type": "stream",
     "text": [
      "[[1.2 2.5]\n",
      " [3.2 1.8]\n",
      " [1.1 4.3]]\n"
     ]
    }
   ],
   "source": [
    "v=np.array([[1.2,2.5],[3.2,1.8],[1.1,4.3]])\n",
    "print(v)"
   ]
  },
  {
   "cell_type": "code",
   "execution_count": 97,
   "metadata": {
    "executionInfo": {
     "elapsed": 42,
     "status": "aborted",
     "timestamp": 1642240524586,
     "user": {
      "displayName": "Diane Sawadogo",
      "photoUrl": "https://lh3.googleusercontent.com/a/default-user=s64",
      "userId": "01361549558366101074"
     },
     "user_tz": -60
    },
    "id": "du8foLcIKLeK"
   },
   "outputs": [
    {
     "name": "stdout",
     "output_type": "stream",
     "text": [
      "1.2\n",
      "2.5\n",
      "3.2\n",
      "1.8\n",
      "1.1\n",
      "4.3\n",
      "Somme= 14.100000000000001\n"
     ]
    }
   ],
   "source": [
    "# values sum\n",
    "s=0.0\n",
    "for i in range(0,v.shape[0]):\n",
    "    for j in range(0,v.shape[1]):\n",
    "        print(v[i,j])\n",
    "        s=s+v[i,j]\n",
    "print(\"Somme=\",s)"
   ]
  },
  {
   "cell_type": "code",
   "execution_count": 98,
   "metadata": {
    "executionInfo": {
     "elapsed": 43,
     "status": "aborted",
     "timestamp": 1642240524587,
     "user": {
      "displayName": "Diane Sawadogo",
      "photoUrl": "https://lh3.googleusercontent.com/a/default-user=s64",
      "userId": "01361549558366101074"
     },
     "user_tz": -60
    },
    "id": "laoBFXmWKLeL"
   },
   "outputs": [
    {
     "name": "stdout",
     "output_type": "stream",
     "text": [
      "1.2\n",
      "2.5\n",
      "3.2\n",
      "1.8\n",
      "1.1\n",
      "4.3\n",
      "Somme= 14.100000000000001\n"
     ]
    }
   ],
   "source": [
    "# Iterator by rows\n",
    "s=0.0\n",
    "for x in np.nditer(v):\n",
    "    print(x)\n",
    "    s=s+x\n",
    "print(\"Somme=\",s)"
   ]
  },
  {
   "cell_type": "code",
   "execution_count": 99,
   "metadata": {
    "executionInfo": {
     "elapsed": 43,
     "status": "aborted",
     "timestamp": 1642240524588,
     "user": {
      "displayName": "Diane Sawadogo",
      "photoUrl": "https://lh3.googleusercontent.com/a/default-user=s64",
      "userId": "01361549558366101074"
     },
     "user_tz": -60
    },
    "id": "ldfuZuC1KLeL"
   },
   "outputs": [
    {
     "name": "stdout",
     "output_type": "stream",
     "text": [
      "1.2\n",
      "3.2\n",
      "1.1\n",
      "2.5\n",
      "1.8\n",
      "4.3\n",
      "Somme= 14.100000000000001\n"
     ]
    }
   ],
   "source": [
    "# Iterator by columns\n",
    "s=0.0\n",
    "for x in np.nditer(v,order='F'):\n",
    "    print(x)\n",
    "    s=s+x\n",
    "print(\"Somme=\",s)"
   ]
  },
  {
   "cell_type": "markdown",
   "metadata": {
    "id": "kTMAt78kKLeM"
   },
   "source": [
    "# Matrices calculus"
   ]
  },
  {
   "cell_type": "code",
   "execution_count": 100,
   "metadata": {
    "id": "jOR4PpPVKLeN",
    "outputId": "3742d8ed-56b3-4519-d655-e95c331468ff"
   },
   "outputs": [
    {
     "name": "stdout",
     "output_type": "stream",
     "text": [
      "[[1.2 2.5]\n",
      " [3.2 1.8]\n",
      " [1.1 4.3]]\n",
      "[[2.1 0.8]\n",
      " [1.3 2.5]]\n"
     ]
    }
   ],
   "source": [
    "x=np.array([[1.2,2.5],[3.2,1.8],[1.1,4.3]])\n",
    "y=np.array([[2.1,0.8],[1.3,2.5]])\n",
    "print(x)\n",
    "print(y)"
   ]
  },
  {
   "cell_type": "code",
   "execution_count": 101,
   "metadata": {
    "id": "YZrYVfBOKLeN",
    "outputId": "bb6f8616-f607-4637-bd13-744a88385d3f"
   },
   "outputs": [
    {
     "name": "stdout",
     "output_type": "stream",
     "text": [
      "[[1.2 3.2 1.1]\n",
      " [2.5 1.8 4.3]]\n"
     ]
    }
   ],
   "source": [
    "# Transpose\n",
    "print(np.transpose(x))"
   ]
  },
  {
   "cell_type": "code",
   "execution_count": 102,
   "metadata": {
    "id": "ewi01XRNKLeO",
    "outputId": "8945d178-ae49-4a6d-85c9-b61aa2a69121"
   },
   "outputs": [
    {
     "name": "stdout",
     "output_type": "stream",
     "text": [
      "[[ 5.77  7.21]\n",
      " [ 9.06  7.06]\n",
      " [ 7.9  11.63]]\n"
     ]
    }
   ],
   "source": [
    "# Multiplication\n",
    "print(np.dot(x,y))"
   ]
  },
  {
   "cell_type": "code",
   "execution_count": 103,
   "metadata": {
    "id": "thAL8Uj8KLeP",
    "outputId": "939f5e54-15e6-4dbc-b8f9-7a79ede1acfb"
   },
   "outputs": [
    {
     "name": "stdout",
     "output_type": "stream",
     "text": [
      "4.210000000000001\n"
     ]
    }
   ],
   "source": [
    "# Determinant\n",
    "print(np.linalg.det(y))"
   ]
  },
  {
   "cell_type": "code",
   "execution_count": 104,
   "metadata": {
    "id": "eijAuYsaKLeP",
    "outputId": "6c12310e-896c-46f0-87e8-c535585183ae"
   },
   "outputs": [
    {
     "name": "stdout",
     "output_type": "stream",
     "text": [
      "[[ 0.59382423 -0.19002375]\n",
      " [-0.3087886   0.49881235]]\n"
     ]
    }
   ],
   "source": [
    "# Inverse\n",
    "print(np.linalg.inv(y))"
   ]
  },
  {
   "cell_type": "code",
   "execution_count": 106,
   "metadata": {
    "id": "0PuCfdelKLeP",
    "outputId": "45902856-2142-49df-856a-415908b4d87d"
   },
   "outputs": [
    {
     "name": "stdout",
     "output_type": "stream",
     "text": [
      "[ 0.81947743 -0.02612827]\n"
     ]
    }
   ],
   "source": [
    "# Solve Linear System y.a=z\n",
    "z=np.array([1.7,1.0])\n",
    "print(np.linalg.solve(y,z))"
   ]
  },
  {
   "cell_type": "code",
   "execution_count": null,
   "metadata": {
    "id": "qTGHV_0ZKLeQ",
    "outputId": "7e3e6f4d-23e1-459d-eb1f-050012ef70fc"
   },
   "outputs": [
    {
     "name": "stdout",
     "output_type": "stream",
     "text": [
      "[ 0.81947743 -0.02612827]\n"
     ]
    }
   ],
   "source": [
    "# a=y^(-1).z\n",
    "print(np.dot(np.linalg.inv(y),z))"
   ]
  },
  {
   "cell_type": "code",
   "execution_count": null,
   "metadata": {
    "id": "U4emyK9AKLeR",
    "outputId": "4542a7ef-4656-4294-f3e7-dd102f6a8bc5"
   },
   "outputs": [
    {
     "name": "stdout",
     "output_type": "stream",
     "text": [
      "[[12.89 13.49]\n",
      " [13.49 27.98]]\n"
     ]
    }
   ],
   "source": [
    "# Symmetric matrix with x^t.x\n",
    "s=np.dot(np.transpose(x),x)\n",
    "print(s)"
   ]
  },
  {
   "cell_type": "code",
   "execution_count": null,
   "metadata": {
    "id": "ZX_yL1wnKLeR",
    "outputId": "3213e774-cfae-4d93-dc3e-f8f6123da6b0"
   },
   "outputs": [
    {
     "name": "stdout",
     "output_type": "stream",
     "text": [
      "(array([ 4.97837925, 35.89162075]), array([[-0.86259502,  0.50589508],\n",
      "       [ 0.50589508,  0.86259502]]))\n"
     ]
    }
   ],
   "source": [
    "# Eigenvalues and Eigenvectors\n",
    "print(np.linalg.eigh(s))"
   ]
  }
 ],
 "metadata": {
  "colab": {
   "name": "Tutoriel_Numpy.ipynb",
   "provenance": []
  },
  "kernelspec": {
   "display_name": "Python 3 (ipykernel)",
   "language": "python",
   "name": "python3"
  },
  "language_info": {
   "codemirror_mode": {
    "name": "ipython",
    "version": 3
   },
   "file_extension": ".py",
   "mimetype": "text/x-python",
   "name": "python",
   "nbconvert_exporter": "python",
   "pygments_lexer": "ipython3",
   "version": "3.11.5"
  }
 },
 "nbformat": 4,
 "nbformat_minor": 1
}
